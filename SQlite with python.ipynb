{
 "cells": [
  {
   "cell_type": "code",
   "execution_count": 1,
   "id": "d7281384",
   "metadata": {},
   "outputs": [],
   "source": [
    "import sqlite3"
   ]
  },
  {
   "cell_type": "markdown",
   "id": "76cafd94",
   "metadata": {},
   "source": [
    "# Creating new Connections"
   ]
  },
  {
   "cell_type": "code",
   "execution_count": 2,
   "id": "9bea94bc",
   "metadata": {},
   "outputs": [],
   "source": [
    "new_connection = sqlite3.connect(\"Cricket.db\")"
   ]
  },
  {
   "cell_type": "code",
   "execution_count": 4,
   "id": "9ad27bd8",
   "metadata": {},
   "outputs": [
    {
     "data": {
      "text/plain": [
       "sqlite3.Connection"
      ]
     },
     "execution_count": 4,
     "metadata": {},
     "output_type": "execute_result"
    }
   ],
   "source": [
    "type(new_connection)\n"
   ]
  },
  {
   "cell_type": "code",
   "execution_count": 6,
   "id": "c38c4333",
   "metadata": {},
   "outputs": [
    {
     "name": "stdout",
     "output_type": "stream",
     "text": [
      "<class 'sqlite3.Connection'>\n"
     ]
    }
   ],
   "source": [
    "print(type(new_connection))"
   ]
  },
  {
   "cell_type": "code",
   "execution_count": 7,
   "id": "143259a1",
   "metadata": {},
   "outputs": [],
   "source": [
    "new_cursor = new_connection.cursor()"
   ]
  },
  {
   "cell_type": "code",
   "execution_count": 8,
   "id": "245b0ce2",
   "metadata": {},
   "outputs": [
    {
     "data": {
      "text/plain": [
       "sqlite3.Cursor"
      ]
     },
     "execution_count": 8,
     "metadata": {},
     "output_type": "execute_result"
    }
   ],
   "source": [
    "type(new_cursor)"
   ]
  },
  {
   "cell_type": "code",
   "execution_count": 9,
   "id": "ed6a0f3f",
   "metadata": {},
   "outputs": [
    {
     "name": "stdout",
     "output_type": "stream",
     "text": [
      "<class 'sqlite3.Cursor'>\n"
     ]
    }
   ],
   "source": [
    "print(type(new_cursor))"
   ]
  },
  {
   "cell_type": "markdown",
   "id": "fd163266",
   "metadata": {},
   "source": [
    "# Simple Local Time"
   ]
  },
  {
   "cell_type": "code",
   "execution_count": 10,
   "id": "db984ca2",
   "metadata": {},
   "outputs": [],
   "source": [
    "new_sql = \"Select datetime('now','localtime');\""
   ]
  },
  {
   "cell_type": "code",
   "execution_count": 11,
   "id": "e2472424",
   "metadata": {},
   "outputs": [
    {
     "name": "stdout",
     "output_type": "stream",
     "text": [
      "Select datetime('now','localtime');\n"
     ]
    }
   ],
   "source": [
    "print(new_sql)"
   ]
  },
  {
   "cell_type": "code",
   "execution_count": 12,
   "id": "98de7e48",
   "metadata": {},
   "outputs": [
    {
     "data": {
      "text/plain": [
       "<sqlite3.Cursor at 0x13aff29c640>"
      ]
     },
     "execution_count": 12,
     "metadata": {},
     "output_type": "execute_result"
    }
   ],
   "source": [
    "new_cursor.execute(new_sql)"
   ]
  },
  {
   "cell_type": "code",
   "execution_count": 13,
   "id": "1409ae1a",
   "metadata": {},
   "outputs": [
    {
     "data": {
      "text/plain": [
       "('2023-02-24 20:44:28',)"
      ]
     },
     "execution_count": 13,
     "metadata": {},
     "output_type": "execute_result"
    }
   ],
   "source": [
    "new_cursor.fetchone()"
   ]
  },
  {
   "cell_type": "code",
   "execution_count": 16,
   "id": "934b4bf6",
   "metadata": {},
   "outputs": [],
   "source": [
    "new_dateTime = new_cursor.execute(new_sql).fetchone()[0]"
   ]
  },
  {
   "cell_type": "code",
   "execution_count": 17,
   "id": "95be1d45",
   "metadata": {},
   "outputs": [
    {
     "name": "stdout",
     "output_type": "stream",
     "text": [
      "2023-02-24 20:48:03\n"
     ]
    }
   ],
   "source": [
    "print(new_dateTime)"
   ]
  },
  {
   "cell_type": "markdown",
   "id": "d28d2263",
   "metadata": {},
   "source": [
    "# To close the Connection"
   ]
  },
  {
   "cell_type": "code",
   "execution_count": 18,
   "id": "fc51111f",
   "metadata": {},
   "outputs": [],
   "source": [
    "new_connection.close()"
   ]
  },
  {
   "cell_type": "markdown",
   "id": "84735e80",
   "metadata": {},
   "source": [
    "# Again Doing EveryThing"
   ]
  },
  {
   "cell_type": "code",
   "execution_count": 21,
   "id": "30927063",
   "metadata": {},
   "outputs": [
    {
     "name": "stdout",
     "output_type": "stream",
     "text": [
      "2023-02-24 20:54:45\n"
     ]
    }
   ],
   "source": [
    "with sqlite3.connect(\"cricket.db\") as new_connection:\n",
    "    new_cursor = new_connection.cursor()\n",
    "    new_db = \"Select datetime('now','localtime');\"\n",
    "    newDate=new_cursor.execute(new_db).fetchone()[0]\n",
    "    print(newDate)"
   ]
  },
  {
   "cell_type": "markdown",
   "id": "94d71d49",
   "metadata": {},
   "source": [
    "# Create Table with values"
   ]
  },
  {
   "cell_type": "code",
   "execution_count": 22,
   "id": "9aa86bb4",
   "metadata": {},
   "outputs": [
    {
     "data": {
      "text/plain": [
       "<sqlite3.Cursor at 0x13aff29c9c0>"
      ]
     },
     "execution_count": 22,
     "metadata": {},
     "output_type": "execute_result"
    }
   ],
   "source": [
    "import sqlite3\n",
    "\n",
    "new_connection = sqlite3.connect(\"cricket.db\")\n",
    "\n",
    "new_cursor = new_connection.cursor()\n",
    "\n",
    "new_sql = \"Create Table clients(id int, name text)\"\n",
    "new_cursor.execute(new_sql)"
   ]
  },
  {
   "cell_type": "code",
   "execution_count": 31,
   "id": "1584837f",
   "metadata": {},
   "outputs": [
    {
     "ename": "ProgrammingError",
     "evalue": "Cannot operate on a closed database.",
     "output_type": "error",
     "traceback": [
      "\u001b[1;31m---------------------------------------------------------------------------\u001b[0m",
      "\u001b[1;31mProgrammingError\u001b[0m                          Traceback (most recent call last)",
      "Cell \u001b[1;32mIn [31], line 3\u001b[0m\n\u001b[0;32m      1\u001b[0m new_sql \u001b[38;5;241m=\u001b[39m \u001b[38;5;124m\"\u001b[39m\u001b[38;5;124mInsert into clients(id,name) values(?,?)\u001b[39m\u001b[38;5;124m\"\u001b[39m\n\u001b[0;32m      2\u001b[0m value \u001b[38;5;241m=\u001b[39m [(\u001b[38;5;241m1\u001b[39m,\u001b[38;5;124m'\u001b[39m\u001b[38;5;124mRohit\u001b[39m\u001b[38;5;124m'\u001b[39m),(\u001b[38;5;241m2\u001b[39m,\u001b[38;5;124m'\u001b[39m\u001b[38;5;124mvirat\u001b[39m\u001b[38;5;124m'\u001b[39m),(\u001b[38;5;241m3\u001b[39m,\u001b[38;5;124m\"\u001b[39m\u001b[38;5;124mgill\u001b[39m\u001b[38;5;124m\"\u001b[39m)]\n\u001b[1;32m----> 3\u001b[0m \u001b[43mnew_cursor\u001b[49m\u001b[38;5;241;43m.\u001b[39;49m\u001b[43mexecute\u001b[49m\u001b[43m(\u001b[49m\u001b[43mnew_sql\u001b[49m\u001b[43m,\u001b[49m\u001b[43mvalue\u001b[49m\u001b[43m)\u001b[49m\n",
      "\u001b[1;31mProgrammingError\u001b[0m: Cannot operate on a closed database."
     ]
    }
   ],
   "source": [
    "new_sql = \"Insert into clients(id,name) values(?,?)\"\n",
    "value = [(1,'Rohit'),(2,'virat'),(3,\"gill\")]\n",
    "new_cursor.execute(new_sql,value)"
   ]
  },
  {
   "cell_type": "code",
   "execution_count": 29,
   "id": "3f0202b6",
   "metadata": {},
   "outputs": [],
   "source": [
    "new_connection.commit()"
   ]
  },
  {
   "cell_type": "code",
   "execution_count": 30,
   "id": "6ab6d2c1",
   "metadata": {},
   "outputs": [],
   "source": [
    "new_connection.close()"
   ]
  },
  {
   "cell_type": "code",
   "execution_count": 32,
   "id": "c58075db",
   "metadata": {},
   "outputs": [],
   "source": [
    "new_connection = sqlite3.connect(\"cricket.db\")\n",
    "\n",
    "new_cursor = new_connection.cursor()"
   ]
  },
  {
   "cell_type": "code",
   "execution_count": 39,
   "id": "7502dc25",
   "metadata": {},
   "outputs": [
    {
     "data": {
      "text/plain": [
       "<sqlite3.Cursor at 0x13aff6bcf40>"
      ]
     },
     "execution_count": 39,
     "metadata": {},
     "output_type": "execute_result"
    }
   ],
   "source": [
    "new_sql = \"Insert into clients(id,name) values(?,?)\"\n",
    "value = (1,'Rohit')\n",
    "new_cursor.execute(new_sql,value)"
   ]
  },
  {
   "cell_type": "code",
   "execution_count": 40,
   "id": "53157e3f",
   "metadata": {},
   "outputs": [
    {
     "data": {
      "text/plain": [
       "<sqlite3.Cursor at 0x13aff6bcf40>"
      ]
     },
     "execution_count": 40,
     "metadata": {},
     "output_type": "execute_result"
    }
   ],
   "source": [
    "new_sql = \"Insert into clients(id,name) values(?,?)\"\n",
    "value = (2,'Virat')\n",
    "new_cursor.execute(new_sql,value)"
   ]
  },
  {
   "cell_type": "code",
   "execution_count": 42,
   "id": "3bca9f94",
   "metadata": {},
   "outputs": [],
   "source": [
    "new_connection.commit()"
   ]
  },
  {
   "cell_type": "code",
   "execution_count": 43,
   "id": "0f1ca1ae",
   "metadata": {},
   "outputs": [],
   "source": [
    "new_connection.close()"
   ]
  },
  {
   "cell_type": "markdown",
   "id": "eb7e2841",
   "metadata": {},
   "source": [
    "# Seleting the required field"
   ]
  },
  {
   "cell_type": "code",
   "execution_count": 46,
   "id": "964608e1",
   "metadata": {},
   "outputs": [],
   "source": [
    "import sqlite3\n",
    "new_connection = sqlite3.connect(\"cricket.db\")\n",
    "\n",
    "new_cursor = new_connection.cursor()"
   ]
  },
  {
   "cell_type": "code",
   "execution_count": 47,
   "id": "7723874c",
   "metadata": {},
   "outputs": [
    {
     "name": "stdout",
     "output_type": "stream",
     "text": [
      "(1, 'Rohit')\n",
      "(1, 'Rohit')\n",
      "(2, 'Virat')\n"
     ]
    }
   ],
   "source": [
    "new_sql = \"select * from clients\"\n",
    "\n",
    "new_cursor.execute(new_sql)\n",
    "\n",
    "for x in new_cursor:\n",
    "    print(x)"
   ]
  },
  {
   "cell_type": "code",
   "execution_count": 49,
   "id": "9ff85af7",
   "metadata": {},
   "outputs": [
    {
     "data": {
      "text/plain": [
       "<sqlite3.Cursor at 0x13aff6cbd40>"
      ]
     },
     "execution_count": 49,
     "metadata": {},
     "output_type": "execute_result"
    }
   ],
   "source": [
    "new_sql = \"Insert into clients(id,name) values(?,?)\"\n",
    "value = [(2,'Virat'),(3,'gill'),(4,'pujara'),(5,'Ashwin'),(6,'jaddu')]\n",
    "new_cursor.executemany(new_sql,value)"
   ]
  },
  {
   "cell_type": "code",
   "execution_count": 50,
   "id": "45a0d4a9",
   "metadata": {},
   "outputs": [
    {
     "name": "stdout",
     "output_type": "stream",
     "text": [
      "(1, 'Rohit')\n",
      "(1, 'Rohit')\n",
      "(2, 'Virat')\n",
      "(2, 'Virat')\n",
      "(3, 'gill')\n",
      "(4, 'pujara')\n",
      "(5, 'Ashwin')\n",
      "(6, 'jaddu')\n"
     ]
    }
   ],
   "source": [
    "new_sql = \"select * from clients\"\n",
    "\n",
    "new_cursor.execute(new_sql)\n",
    "\n",
    "for x in new_cursor:\n",
    "    print(x)"
   ]
  },
  {
   "cell_type": "code",
   "execution_count": 51,
   "id": "479afb86",
   "metadata": {},
   "outputs": [],
   "source": [
    "#If you want to drop the table\n",
    "#drop table clients(Use If exists if confused whether it exists)"
   ]
  },
  {
   "cell_type": "code",
   "execution_count": 52,
   "id": "c1f7819a",
   "metadata": {},
   "outputs": [],
   "source": [
    "new_connection.commit()\n",
    "new_connection.close()"
   ]
  },
  {
   "cell_type": "markdown",
   "id": "8ff8b6de",
   "metadata": {},
   "source": [
    "# All in One"
   ]
  },
  {
   "cell_type": "code",
   "execution_count": 53,
   "id": "5217c092",
   "metadata": {},
   "outputs": [
    {
     "name": "stdout",
     "output_type": "stream",
     "text": [
      "('Rohit', 45)\n",
      "('Virat', 18)\n",
      "('Bumrah', 93)\n"
     ]
    }
   ],
   "source": [
    "import sqlite3\n",
    "\n",
    "new_values = (\n",
    "    (\"Dohni\", 7),\n",
    "    (\"Rohit\", 45),\n",
    "    (\"Virat\", 18),\n",
    "    (\"Bumrah\", 93),\n",
    "    (\"Sachain\",10),\n",
    ")\n",
    "\n",
    "with sqlite3.connect(\"data_testing.db\") as new_connection:\n",
    "    new_cursor = new_connection.cursor()\n",
    "    new_cursor.execute(\"DROP TABLE IF EXISTS clients\")\n",
    "    new_cursor.execute(\"CREATE TABLE clients(Name TEXT, Number INT);\")\n",
    "    \n",
    "    new_cursor.executemany(\"INSERT INTO clients VALUES(?, ?)\", new_values)\n",
    "    \n",
    "    new_cursor.execute(\"SELECT Name, Number FROM clients WHERE Number > 10;\")\n",
    "    \n",
    "    for x in new_cursor.fetchall():\n",
    "        print(x)"
   ]
  },
  {
   "cell_type": "code",
   "execution_count": 54,
   "id": "e70b1195",
   "metadata": {},
   "outputs": [
    {
     "ename": "AttributeError",
     "evalue": "'sqlite3.Cursor' object has no attribute 'commit'",
     "output_type": "error",
     "traceback": [
      "\u001b[1;31m---------------------------------------------------------------------------\u001b[0m",
      "\u001b[1;31mAttributeError\u001b[0m                            Traceback (most recent call last)",
      "Cell \u001b[1;32mIn [54], line 1\u001b[0m\n\u001b[1;32m----> 1\u001b[0m \u001b[43mnew_cursor\u001b[49m\u001b[38;5;241;43m.\u001b[39;49m\u001b[43mcommit\u001b[49m()\n",
      "\u001b[1;31mAttributeError\u001b[0m: 'sqlite3.Cursor' object has no attribute 'commit'"
     ]
    }
   ],
   "source": [
    "new_cursor.commit()"
   ]
  },
  {
   "cell_type": "code",
   "execution_count": 55,
   "id": "5a3d15cb",
   "metadata": {},
   "outputs": [],
   "source": [
    "new_connection.commit()"
   ]
  },
  {
   "cell_type": "code",
   "execution_count": 56,
   "id": "dc183a75",
   "metadata": {},
   "outputs": [
    {
     "ename": "NameError",
     "evalue": "name 'New_connection' is not defined",
     "output_type": "error",
     "traceback": [
      "\u001b[1;31m---------------------------------------------------------------------------\u001b[0m",
      "\u001b[1;31mNameError\u001b[0m                                 Traceback (most recent call last)",
      "Cell \u001b[1;32mIn [56], line 1\u001b[0m\n\u001b[1;32m----> 1\u001b[0m \u001b[43mNew_connection\u001b[49m\u001b[38;5;241m.\u001b[39mclose()\n",
      "\u001b[1;31mNameError\u001b[0m: name 'New_connection' is not defined"
     ]
    }
   ],
   "source": [
    "New_connection.close()"
   ]
  },
  {
   "cell_type": "code",
   "execution_count": 57,
   "id": "9b3f4eb7",
   "metadata": {},
   "outputs": [],
   "source": [
    "new_connection.close()"
   ]
  }
 ],
 "metadata": {
  "kernelspec": {
   "display_name": "Python 3 (ipykernel)",
   "language": "python",
   "name": "python3"
  },
  "language_info": {
   "codemirror_mode": {
    "name": "ipython",
    "version": 3
   },
   "file_extension": ".py",
   "mimetype": "text/x-python",
   "name": "python",
   "nbconvert_exporter": "python",
   "pygments_lexer": "ipython3",
   "version": "3.10.6"
  }
 },
 "nbformat": 4,
 "nbformat_minor": 5
}
