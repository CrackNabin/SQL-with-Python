{
 "cells": [
  {
   "cell_type": "markdown",
   "id": "75954667",
   "metadata": {},
   "source": [
    "# Installation and Import"
   ]
  },
  {
   "cell_type": "code",
   "execution_count": 1,
   "id": "cc807b9d",
   "metadata": {},
   "outputs": [
    {
     "name": "stdout",
     "output_type": "stream",
     "text": [
      "Collecting pymongo\n",
      "  Downloading pymongo-4.3.3-cp310-cp310-win_amd64.whl (382 kB)\n",
      "     ------------------------------------ 382.5/382.5 kB 952.1 kB/s eta 0:00:00\n",
      "Collecting dnspython<3.0.0,>=1.16.0\n",
      "  Downloading dnspython-2.3.0-py3-none-any.whl (283 kB)\n",
      "     -------------------------------------- 283.7/283.7 kB 2.2 MB/s eta 0:00:00\n",
      "Installing collected packages: dnspython, pymongo\n",
      "Successfully installed dnspython-2.3.0 pymongo-4.3.3\n"
     ]
    }
   ],
   "source": [
    "!python -m pip install pymongo"
   ]
  },
  {
   "cell_type": "code",
   "execution_count": 3,
   "id": "1cb969b8",
   "metadata": {},
   "outputs": [],
   "source": [
    "import pymongo"
   ]
  },
  {
   "cell_type": "markdown",
   "id": "5d1d1359",
   "metadata": {},
   "source": [
    "# Creating Client"
   ]
  },
  {
   "cell_type": "code",
   "execution_count": 4,
   "id": "444cdcfe",
   "metadata": {},
   "outputs": [],
   "source": [
    "new_client = pymongo.MongoClient('mongodb://localhost:27017')\n",
    "\n",
    "new_db = new_client['Cricinfo']"
   ]
  },
  {
   "cell_type": "code",
   "execution_count": 6,
   "id": "3106bd5f",
   "metadata": {},
   "outputs": [
    {
     "name": "stdout",
     "output_type": "stream",
     "text": [
      "<pymongo.results.InsertOneResult object at 0x000001E607E5D6C0>\n"
     ]
    }
   ],
   "source": [
    "new_col = new_db['Players']\n",
    "\n",
    "new_rec = { \"name\":\"Rohitu\" , \"Designation\":\"Hitman\"}\n",
    "\n",
    "adding = new_col.insert_one(new_rec)\n",
    "\n",
    "print(adding)"
   ]
  },
  {
   "cell_type": "code",
   "execution_count": 7,
   "id": "52248729",
   "metadata": {},
   "outputs": [
    {
     "name": "stdout",
     "output_type": "stream",
     "text": [
      "63f9832c1acb410cb3efbb08\n"
     ]
    }
   ],
   "source": [
    "print(adding.inserted_id)"
   ]
  },
  {
   "cell_type": "code",
   "execution_count": 12,
   "id": "6f852f45",
   "metadata": {},
   "outputs": [
    {
     "name": "stdout",
     "output_type": "stream",
     "text": [
      "<pymongo.results.InsertManyResult object at 0x000001E60B39B910>\n"
     ]
    }
   ],
   "source": [
    "new_players = [\n",
    "     { \"name\":\"Virattu\" , \"Designation\":\"King18\"},\n",
    "     { \"name\":\"Pujji\" , \"Designation\":\"BhagBsdk\"},\n",
    "     { \"name\":\"Iyer\", \"designation\":\"Chahal's wife Hunter\"},\n",
    "     { \"name\":\"Venkatesh Iyer\", \"designation\":\"One Second Phase Player\"},\n",
    "     { \"name\":\"Shami\", \"designation\":\"Milkman\"}\n",
    "]\n",
    "\n",
    "adding_many = new_col.insert_many(new_players) #use Many here\n",
    "\n",
    "print(adding)"
   ]
  },
  {
   "cell_type": "markdown",
   "id": "df04eb77",
   "metadata": {},
   "source": [
    "# Finding the data"
   ]
  },
  {
   "cell_type": "code",
   "execution_count": 14,
   "id": "e2693d7e",
   "metadata": {},
   "outputs": [
    {
     "name": "stdout",
     "output_type": "stream",
     "text": [
      "{'_id': ObjectId('63f9832c1acb410cb3efbb08'), 'name': 'Rohitu', 'Designation': 'Hitman'}\n"
     ]
    }
   ],
   "source": [
    "find = new_col.find_one()\n",
    "print(find)"
   ]
  },
  {
   "cell_type": "code",
   "execution_count": 16,
   "id": "50515f43",
   "metadata": {},
   "outputs": [
    {
     "name": "stdout",
     "output_type": "stream",
     "text": [
      "{'_id': ObjectId('63f9832c1acb410cb3efbb08'), 'name': 'Rohitu', 'Designation': 'Hitman'}\n",
      "{'_id': ObjectId('63f984e61acb410cb3efbb09'), 'name': 'Virattu', 'Designation': 'King18'}\n",
      "{'_id': ObjectId('63f984e61acb410cb3efbb0a'), 'name': 'Pujji', 'Designation': 'BhagBsdk'}\n",
      "{'_id': ObjectId('63f984e61acb410cb3efbb0b'), 'name': 'Iyer', 'designation': \"Chahal's wife Hunter\"}\n",
      "{'_id': ObjectId('63f984e61acb410cb3efbb0c'), 'name': 'Venkatesh Iyer', 'designation': 'One Second Phase Player'}\n",
      "{'_id': ObjectId('63f984e61acb410cb3efbb0d'), 'name': 'Shami', 'designation': 'Milkman'}\n",
      "{'_id': '1', 'name': 'Virattu', 'Designation': 'King18'}\n",
      "{'_id': ObjectId('63f986a61acb410cb3efbb0e'), 'name': 'Pujji', 'Designation': 'BhagBsdk'}\n",
      "{'_id': ObjectId('63f986a61acb410cb3efbb0f'), 'name': 'Iyer', 'designation': \"Chahal's wife Hunter\"}\n",
      "{'_id': ObjectId('63f986a61acb410cb3efbb10'), 'name': 'Venkatesh Iyer', 'designation': 'One Second Phase Player'}\n",
      "{'_id': ObjectId('63f986a61acb410cb3efbb11'), 'name': 'Shami', 'designation': 'Milkman'}\n",
      "{'_id': 1, 'name': 'Virattu', 'Designation': 'King18'}\n",
      "{'_id': ObjectId('63f986d31acb410cb3efbb16'), 'name': 'Pujji', 'Designation': 'BhagBsdk'}\n",
      "{'_id': ObjectId('63f986d31acb410cb3efbb17'), 'name': 'Iyer', 'designation': \"Chahal's wife Hunter\"}\n",
      "{'_id': ObjectId('63f986d31acb410cb3efbb18'), 'name': 'Venkatesh Iyer', 'designation': 'One Second Phase Player'}\n",
      "{'_id': ObjectId('63f986d31acb410cb3efbb19'), 'name': 'Shami', 'designation': 'Milkman'}\n"
     ]
    }
   ],
   "source": [
    "for x in new_col.find():\n",
    "    print(x)"
   ]
  },
  {
   "cell_type": "code",
   "execution_count": 18,
   "id": "e1524c56",
   "metadata": {},
   "outputs": [
    {
     "name": "stdout",
     "output_type": "stream",
     "text": [
      "{'_id': ObjectId('63f984e61acb410cb3efbb09'), 'name': 'Virattu', 'Designation': 'King18'}\n",
      "{'_id': '1', 'name': 'Virattu', 'Designation': 'King18'}\n",
      "{'_id': 1, 'name': 'Virattu', 'Designation': 'King18'}\n"
     ]
    }
   ],
   "source": [
    "new_query = { 'name': 'Virattu'}\n",
    "\n",
    "new_find = new_col.find(new_query)\n",
    "\n",
    "for x in new_find:\n",
    "    print(x)"
   ]
  },
  {
   "cell_type": "code",
   "execution_count": 22,
   "id": "1593d42a",
   "metadata": {},
   "outputs": [
    {
     "name": "stdout",
     "output_type": "stream",
     "text": [
      "{'_id': ObjectId('63f984e61acb410cb3efbb09'), 'name': 'Virattu', 'Designation': 'King18'}\n",
      "{'_id': ObjectId('63f984e61acb410cb3efbb0c'), 'name': 'Venkatesh Iyer', 'designation': 'One Second Phase Player'}\n",
      "{'_id': '1', 'name': 'Virattu', 'Designation': 'King18'}\n",
      "{'_id': ObjectId('63f986a61acb410cb3efbb10'), 'name': 'Venkatesh Iyer', 'designation': 'One Second Phase Player'}\n",
      "{'_id': 1, 'name': 'Virattu', 'Designation': 'King18'}\n",
      "{'_id': ObjectId('63f986d31acb410cb3efbb18'), 'name': 'Venkatesh Iyer', 'designation': 'One Second Phase Player'}\n"
     ]
    }
   ],
   "source": [
    "new_query = { 'name': {'$gt': 'V'}}\n",
    "\n",
    "new_find = new_col.find(new_query)\n",
    "\n",
    "for x in new_find:\n",
    "    print(x)"
   ]
  },
  {
   "cell_type": "code",
   "execution_count": 23,
   "id": "0d6addfb",
   "metadata": {},
   "outputs": [
    {
     "name": "stdout",
     "output_type": "stream",
     "text": [
      "{'_id': ObjectId('63f984e61acb410cb3efbb0b'), 'name': 'Iyer', 'designation': \"Chahal's wife Hunter\"}\n",
      "{'_id': ObjectId('63f986a61acb410cb3efbb0f'), 'name': 'Iyer', 'designation': \"Chahal's wife Hunter\"}\n",
      "{'_id': ObjectId('63f986d31acb410cb3efbb17'), 'name': 'Iyer', 'designation': \"Chahal's wife Hunter\"}\n",
      "{'_id': ObjectId('63f984e61acb410cb3efbb0a'), 'name': 'Pujji', 'Designation': 'BhagBsdk'}\n",
      "{'_id': ObjectId('63f986a61acb410cb3efbb0e'), 'name': 'Pujji', 'Designation': 'BhagBsdk'}\n",
      "{'_id': ObjectId('63f986d31acb410cb3efbb16'), 'name': 'Pujji', 'Designation': 'BhagBsdk'}\n",
      "{'_id': ObjectId('63f9832c1acb410cb3efbb08'), 'name': 'Rohitu', 'Designation': 'Hitman'}\n",
      "{'_id': ObjectId('63f984e61acb410cb3efbb0d'), 'name': 'Shami', 'designation': 'Milkman'}\n",
      "{'_id': ObjectId('63f986a61acb410cb3efbb11'), 'name': 'Shami', 'designation': 'Milkman'}\n",
      "{'_id': ObjectId('63f986d31acb410cb3efbb19'), 'name': 'Shami', 'designation': 'Milkman'}\n",
      "{'_id': ObjectId('63f984e61acb410cb3efbb0c'), 'name': 'Venkatesh Iyer', 'designation': 'One Second Phase Player'}\n",
      "{'_id': ObjectId('63f986a61acb410cb3efbb10'), 'name': 'Venkatesh Iyer', 'designation': 'One Second Phase Player'}\n",
      "{'_id': ObjectId('63f986d31acb410cb3efbb18'), 'name': 'Venkatesh Iyer', 'designation': 'One Second Phase Player'}\n",
      "{'_id': ObjectId('63f984e61acb410cb3efbb09'), 'name': 'Virattu', 'Designation': 'King18'}\n",
      "{'_id': '1', 'name': 'Virattu', 'Designation': 'King18'}\n",
      "{'_id': 1, 'name': 'Virattu', 'Designation': 'King18'}\n"
     ]
    }
   ],
   "source": [
    "new_query = new_col.find().sort('name')\n",
    "\n",
    "for x in new_query:\n",
    "    print(x)"
   ]
  },
  {
   "cell_type": "code",
   "execution_count": 24,
   "id": "c89cc01f",
   "metadata": {},
   "outputs": [
    {
     "name": "stdout",
     "output_type": "stream",
     "text": [
      "{'_id': ObjectId('63f984e61acb410cb3efbb09'), 'name': 'Virattu', 'Designation': 'King18'}\n",
      "{'_id': '1', 'name': 'Virattu', 'Designation': 'King18'}\n",
      "{'_id': 1, 'name': 'Virattu', 'Designation': 'King18'}\n",
      "{'_id': ObjectId('63f984e61acb410cb3efbb0c'), 'name': 'Venkatesh Iyer', 'designation': 'One Second Phase Player'}\n",
      "{'_id': ObjectId('63f986a61acb410cb3efbb10'), 'name': 'Venkatesh Iyer', 'designation': 'One Second Phase Player'}\n",
      "{'_id': ObjectId('63f986d31acb410cb3efbb18'), 'name': 'Venkatesh Iyer', 'designation': 'One Second Phase Player'}\n",
      "{'_id': ObjectId('63f984e61acb410cb3efbb0d'), 'name': 'Shami', 'designation': 'Milkman'}\n",
      "{'_id': ObjectId('63f986a61acb410cb3efbb11'), 'name': 'Shami', 'designation': 'Milkman'}\n",
      "{'_id': ObjectId('63f986d31acb410cb3efbb19'), 'name': 'Shami', 'designation': 'Milkman'}\n",
      "{'_id': ObjectId('63f9832c1acb410cb3efbb08'), 'name': 'Rohitu', 'Designation': 'Hitman'}\n",
      "{'_id': ObjectId('63f984e61acb410cb3efbb0a'), 'name': 'Pujji', 'Designation': 'BhagBsdk'}\n",
      "{'_id': ObjectId('63f986a61acb410cb3efbb0e'), 'name': 'Pujji', 'Designation': 'BhagBsdk'}\n",
      "{'_id': ObjectId('63f986d31acb410cb3efbb16'), 'name': 'Pujji', 'Designation': 'BhagBsdk'}\n",
      "{'_id': ObjectId('63f984e61acb410cb3efbb0b'), 'name': 'Iyer', 'designation': \"Chahal's wife Hunter\"}\n",
      "{'_id': ObjectId('63f986a61acb410cb3efbb0f'), 'name': 'Iyer', 'designation': \"Chahal's wife Hunter\"}\n",
      "{'_id': ObjectId('63f986d31acb410cb3efbb17'), 'name': 'Iyer', 'designation': \"Chahal's wife Hunter\"}\n"
     ]
    }
   ],
   "source": [
    "new_query = new_col.find().sort('name',-1)\n",
    "\n",
    "for x in new_query:\n",
    "    print(x)"
   ]
  },
  {
   "cell_type": "code",
   "execution_count": 26,
   "id": "78aefdcb",
   "metadata": {},
   "outputs": [
    {
     "name": "stdout",
     "output_type": "stream",
     "text": [
      "{'_id': ObjectId('63f9832c1acb410cb3efbb08'), 'name': 'Rohitu', 'Designation': 'Hitman'}\n",
      "{'_id': ObjectId('63f984e61acb410cb3efbb09'), 'name': 'Virattu', 'Designation': 'King18'}\n",
      "{'_id': ObjectId('63f984e61acb410cb3efbb0a'), 'name': 'Pujji', 'Designation': 'BhagBsdk'}\n",
      "{'_id': ObjectId('63f984e61acb410cb3efbb0b'), 'name': 'Iyer', 'designation': \"Chahal's wife Hunter\"}\n",
      "{'_id': ObjectId('63f984e61acb410cb3efbb0c'), 'name': 'Venkatesh Iyer', 'designation': 'One Second Phase Player'}\n",
      "{'_id': ObjectId('63f984e61acb410cb3efbb0d'), 'name': 'Shami', 'designation': 'Milkman'}\n",
      "{'_id': '1', 'name': 'Virattu', 'Designation': 'King18'}\n",
      "{'_id': ObjectId('63f986a61acb410cb3efbb0e'), 'name': 'Pujji', 'Designation': 'BhagBsdk'}\n",
      "{'_id': ObjectId('63f986a61acb410cb3efbb0f'), 'name': 'Iyer', 'designation': \"Chahal's wife Hunter\"}\n",
      "{'_id': ObjectId('63f986a61acb410cb3efbb10'), 'name': 'Venkatesh Iyer', 'designation': 'One Second Phase Player'}\n",
      "{'_id': ObjectId('63f986a61acb410cb3efbb11'), 'name': 'Shami', 'designation': 'Milkman'}\n",
      "{'_id': ObjectId('63f986d31acb410cb3efbb16'), 'name': 'Pujji', 'Designation': 'BhagBsdk'}\n",
      "{'_id': ObjectId('63f986d31acb410cb3efbb17'), 'name': 'Iyer', 'designation': \"Chahal's wife Hunter\"}\n",
      "{'_id': ObjectId('63f986d31acb410cb3efbb18'), 'name': 'Venkatesh Iyer', 'designation': 'One Second Phase Player'}\n",
      "{'_id': ObjectId('63f986d31acb410cb3efbb19'), 'name': 'Shami', 'designation': 'Milkman'}\n"
     ]
    }
   ],
   "source": [
    "new_query = { '_id': 1}\n",
    "\n",
    "new_col.delete_one(new_query)\n",
    "\n",
    "for x in new_col.find():\n",
    "    print(x)"
   ]
  },
  {
   "cell_type": "code",
   "execution_count": 29,
   "id": "497acfee",
   "metadata": {},
   "outputs": [
    {
     "name": "stdout",
     "output_type": "stream",
     "text": [
      "{'_id': ObjectId('63f9832c1acb410cb3efbb08'), 'name': 'Rohitu', 'Designation': 'Hitman'}\n",
      "{'_id': ObjectId('63f984e61acb410cb3efbb09'), 'name': 'Virattu', 'Designation': 'King18'}\n",
      "{'_id': ObjectId('63f984e61acb410cb3efbb0a'), 'name': 'Pujji', 'Designation': 'BhagBsdk'}\n",
      "{'_id': ObjectId('63f984e61acb410cb3efbb0b'), 'name': 'Iyer', 'designation': \"Chahal's wife Hunter\"}\n",
      "{'_id': ObjectId('63f984e61acb410cb3efbb0c'), 'name': 'Venkatesh Iyer', 'designation': 'One Second Phase Player'}\n",
      "{'_id': ObjectId('63f984e61acb410cb3efbb0d'), 'name': 'Shami', 'designation': 'Milkman'}\n",
      "{'_id': ObjectId('63f986a61acb410cb3efbb0e'), 'name': 'Pujji', 'Designation': 'BhagBsdk'}\n",
      "{'_id': ObjectId('63f986a61acb410cb3efbb0f'), 'name': 'Iyer', 'designation': \"Chahal's wife Hunter\"}\n",
      "{'_id': ObjectId('63f986a61acb410cb3efbb10'), 'name': 'Venkatesh Iyer', 'designation': 'One Second Phase Player'}\n",
      "{'_id': ObjectId('63f986a61acb410cb3efbb11'), 'name': 'Shami', 'designation': 'Milkman'}\n",
      "{'_id': ObjectId('63f986d31acb410cb3efbb16'), 'name': 'Pujji', 'Designation': 'BhagBsdk'}\n",
      "{'_id': ObjectId('63f986d31acb410cb3efbb17'), 'name': 'Iyer', 'designation': \"Chahal's wife Hunter\"}\n",
      "{'_id': ObjectId('63f986d31acb410cb3efbb18'), 'name': 'Venkatesh Iyer', 'designation': 'One Second Phase Player'}\n",
      "{'_id': ObjectId('63f986d31acb410cb3efbb19'), 'name': 'Shami', 'designation': 'Milkman'}\n"
     ]
    }
   ],
   "source": [
    "new_query = { '_id': \"1\"}\n",
    "\n",
    "new_col.delete_one(new_query)\n",
    "\n",
    "for x in new_col.find():\n",
    "    print(x)"
   ]
  },
  {
   "cell_type": "code",
   "execution_count": 39,
   "id": "edbee9d9",
   "metadata": {},
   "outputs": [
    {
     "name": "stdout",
     "output_type": "stream",
     "text": [
      "{'_id': ObjectId('63f9832c1acb410cb3efbb08'), 'name': 'Rohitu', 'Designation': 'Hitman'}\n",
      "{'_id': ObjectId('63f984e61acb410cb3efbb09'), 'name': 'Virattu', 'Designation': 'King18'}\n",
      "{'_id': ObjectId('63f984e61acb410cb3efbb0a'), 'name': 'Pujji', 'Designation': 'BhagBsdk'}\n",
      "{'_id': ObjectId('63f984e61acb410cb3efbb0b'), 'name': 'Iyer', 'designation': \"Chahal's wife Hunter\"}\n",
      "{'_id': ObjectId('63f984e61acb410cb3efbb0c'), 'name': 'Venkatesh Iyer', 'designation': 'One Second Phase Player'}\n",
      "{'_id': ObjectId('63f986a61acb410cb3efbb0e'), 'name': 'Pujji', 'Designation': 'BhagBsdk'}\n",
      "{'_id': ObjectId('63f986a61acb410cb3efbb0f'), 'name': 'Iyer', 'designation': \"Chahal's wife Hunter\"}\n",
      "{'_id': ObjectId('63f986a61acb410cb3efbb10'), 'name': 'Venkatesh Iyer', 'designation': 'One Second Phase Player'}\n",
      "{'_id': ObjectId('63f986d31acb410cb3efbb16'), 'name': 'Pujji', 'Designation': 'BhagBsdk'}\n",
      "{'_id': ObjectId('63f986d31acb410cb3efbb17'), 'name': 'Iyer', 'designation': \"Chahal's wife Hunter\"}\n",
      "{'_id': ObjectId('63f986d31acb410cb3efbb18'), 'name': 'Venkatesh Iyer', 'designation': 'One Second Phase Player'}\n"
     ]
    }
   ],
   "source": [
    "new_query = { 'name': 'Shami'}\n",
    "\n",
    "new_col.delete_many(new_query)\n",
    "\n",
    "for x in new_col.find():\n",
    "    print(x)"
   ]
  },
  {
   "cell_type": "markdown",
   "id": "382c833e",
   "metadata": {},
   "source": [
    "# Drop whole record"
   ]
  },
  {
   "cell_type": "code",
   "execution_count": 42,
   "id": "b9614993",
   "metadata": {},
   "outputs": [
    {
     "name": "stdout",
     "output_type": "stream",
     "text": [
      "11\n"
     ]
    }
   ],
   "source": [
    "new_query = {}\n",
    "\n",
    "x = new_col.delete_many(new_query)\n",
    "\n",
    "print(x.deleted_count)"
   ]
  },
  {
   "cell_type": "markdown",
   "id": "da2ed39e",
   "metadata": {},
   "source": [
    "# Now Collection"
   ]
  },
  {
   "cell_type": "code",
   "execution_count": 49,
   "id": "b6095ad2",
   "metadata": {},
   "outputs": [],
   "source": [
    "new_col.drop()"
   ]
  },
  {
   "cell_type": "markdown",
   "id": "d376fdc9",
   "metadata": {},
   "source": [
    "# Remaking DB"
   ]
  },
  {
   "cell_type": "code",
   "execution_count": 50,
   "id": "3494ea5a",
   "metadata": {},
   "outputs": [
    {
     "name": "stdout",
     "output_type": "stream",
     "text": [
      "<pymongo.results.InsertOneResult object at 0x000001E60B77FBE0>\n"
     ]
    }
   ],
   "source": [
    "new_client = pymongo.MongoClient('mongodb://localhost:27017')\n",
    "\n",
    "new_db = new_client['Cricinfo']\n",
    "\n",
    "new_col = new_db['Players']\n",
    "\n",
    "new_rec = {\"_id\":1, \"name\":\"Rohitu\" , \"Designation\":\"Hitman\"}\n",
    "\n",
    "adding = new_col.insert_one(new_rec)\n",
    "\n",
    "print(adding)\n"
   ]
  },
  {
   "cell_type": "code",
   "execution_count": 51,
   "id": "5bbccc82",
   "metadata": {},
   "outputs": [
    {
     "name": "stdout",
     "output_type": "stream",
     "text": [
      "<pymongo.results.InsertOneResult object at 0x000001E60B77FBE0>\n"
     ]
    }
   ],
   "source": [
    "new_players = [\n",
    "     { \"name\":\"Virattu\" , \"Designation\":\"King18\"},\n",
    "     { \"name\":\"Pujji\" , \"Designation\":\"BhagBsdk\"},\n",
    "     { \"name\":\"Iyer\", \"designation\":\"Chahal's wife Hunter\"},\n",
    "     { \"name\":\"Venkatesh Iyer\", \"designation\":\"One Second Phase Player\"},\n",
    "     { \"name\":\"Shami\", \"designation\":\"Milkman\"}\n",
    "]\n",
    "\n",
    "adding_many = new_col.insert_many(new_players) #use Many here\n",
    "\n",
    "print(adding)"
   ]
  },
  {
   "cell_type": "code",
   "execution_count": 54,
   "id": "8d37c9d7",
   "metadata": {},
   "outputs": [],
   "source": [
    "new_query = { 'name':'Pujji'}\n",
    "\n",
    "new_val = {'$set': {'name':'Pujara'}}\n",
    "\n",
    "new_rec = new_col.update_one(new_query,new_val)"
   ]
  },
  {
   "cell_type": "code",
   "execution_count": 56,
   "id": "24fb7dfa",
   "metadata": {},
   "outputs": [
    {
     "name": "stdout",
     "output_type": "stream",
     "text": [
      "{'_id': 1, 'name': 'Rohitu', 'Designation': 'Hitman'}\n",
      "{'_id': ObjectId('63f9944f1acb410cb3efbb22'), 'name': 'Virattu', 'Designation': 'King18'}\n",
      "{'_id': ObjectId('63f9944f1acb410cb3efbb23'), 'name': 'Pujara', 'Designation': 'BhagBsdk'}\n",
      "{'_id': ObjectId('63f9944f1acb410cb3efbb24'), 'name': 'Iyer', 'designation': \"Chahal's wife Hunter\"}\n",
      "{'_id': ObjectId('63f9944f1acb410cb3efbb25'), 'name': 'Venkatesh Iyer', 'designation': 'One Second Phase Player'}\n",
      "{'_id': ObjectId('63f9944f1acb410cb3efbb26'), 'name': 'Shami', 'designation': 'Milkman'}\n"
     ]
    }
   ],
   "source": [
    "for x in new_col.find():\n",
    "    print(x)"
   ]
  }
 ],
 "metadata": {
  "kernelspec": {
   "display_name": "Python 3 (ipykernel)",
   "language": "python",
   "name": "python3"
  },
  "language_info": {
   "codemirror_mode": {
    "name": "ipython",
    "version": 3
   },
   "file_extension": ".py",
   "mimetype": "text/x-python",
   "name": "python",
   "nbconvert_exporter": "python",
   "pygments_lexer": "ipython3",
   "version": "3.10.6"
  }
 },
 "nbformat": 4,
 "nbformat_minor": 5
}
