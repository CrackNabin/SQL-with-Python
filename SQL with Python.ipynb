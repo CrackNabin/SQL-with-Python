{
 "cells": [
  {
   "cell_type": "code",
   "execution_count": 1,
   "id": "ca8b4339",
   "metadata": {},
   "outputs": [
    {
     "name": "stdout",
     "output_type": "stream",
     "text": [
      "Requirement already satisfied: mysql-connector-python in c:\\users\\dell\\appdata\\local\\programs\\python\\python310\\lib\\site-packages (8.0.32)\n",
      "Requirement already satisfied: protobuf<=3.20.3,>=3.11.0 in c:\\users\\dell\\appdata\\local\\programs\\python\\python310\\lib\\site-packages (from mysql-connector-python) (3.19.6)\n"
     ]
    }
   ],
   "source": [
    "!python -m pip install mysql-connector-python"
   ]
  },
  {
   "cell_type": "code",
   "execution_count": 2,
   "id": "79985f8b",
   "metadata": {},
   "outputs": [],
   "source": [
    "import mysql.connector"
   ]
  },
  {
   "cell_type": "code",
   "execution_count": 3,
   "id": "4653757b",
   "metadata": {},
   "outputs": [
    {
     "name": "stdout",
     "output_type": "stream",
     "text": [
      "<mysql.connector.connection_cext.CMySQLConnection object at 0x0000023CF34DC2B0>\n"
     ]
    }
   ],
   "source": [
    "new_db = mysql.connector.connect(\n",
    "    host='localhost',\n",
    "    user = 'root',\n",
    "    password =''\n",
    ")\n",
    "print(new_db)"
   ]
  },
  {
   "cell_type": "markdown",
   "id": "ebf73a0f",
   "metadata": {},
   "source": [
    "#  Creating a Database"
   ]
  },
  {
   "cell_type": "code",
   "execution_count": 10,
   "id": "cc1828b2",
   "metadata": {},
   "outputs": [],
   "source": [
    "import mysql.connector\n",
    "new_db = mysql.connector.connect(\n",
    "    host='localhost',\n",
    "    user = 'root',\n",
    "    password =''\n",
    ")\n",
    "new_cursor = new_db.cursor()\n",
    "new_cursor.execute(\"Create Database new data\")"
   ]
  },
  {
   "cell_type": "code",
   "execution_count": 11,
   "id": "19651f7c",
   "metadata": {},
   "outputs": [
    {
     "name": "stdout",
     "output_type": "stream",
     "text": [
      "('demos',)\n",
      "('grafana_demo',)\n",
      "('grafana_test',)\n",
      "('information_schema',)\n",
      "('loginsystem',)\n",
      "('mysql',)\n",
      "('nabin',)\n",
      "('new_schema',)\n",
      "('newdata',)\n",
      "('performance_schema',)\n",
      "('phpmyadmin',)\n"
     ]
    }
   ],
   "source": [
    "new_cursor.execute('show databases')\n",
    "\n",
    "for n in new_cursor:\n",
    "    print(n)\n",
    "    "
   ]
  },
  {
   "cell_type": "markdown",
   "id": "a543af0c",
   "metadata": {},
   "source": [
    "# Creating Table and Showing data"
   ]
  },
  {
   "cell_type": "code",
   "execution_count": 13,
   "id": "639f94b6",
   "metadata": {},
   "outputs": [],
   "source": [
    "import mysql.connector\n",
    "new_db = mysql.connector.connect(\n",
    "    host='localhost',\n",
    "    user = 'root',\n",
    "    password ='',\n",
    "    database = 'newdata'\n",
    ")\n",
    "new_cursor = new_db.cursor()\n",
    "\n",
    "new_cursor.execute(\"Create Table students(name varchar(255), code varchar(255))\")"
   ]
  },
  {
   "cell_type": "markdown",
   "id": "10a3a805",
   "metadata": {},
   "source": [
    "# List all tables in given database"
   ]
  },
  {
   "cell_type": "code",
   "execution_count": 15,
   "id": "c8b5ec99",
   "metadata": {},
   "outputs": [
    {
     "name": "stdout",
     "output_type": "stream",
     "text": [
      "('students',)\n"
     ]
    }
   ],
   "source": [
    "new_cursor.execute(\"Show Tables\")\n",
    "\n",
    "for x in new_cursor:\n",
    "    print(x)"
   ]
  },
  {
   "cell_type": "markdown",
   "id": "5c6aa872",
   "metadata": {},
   "source": [
    "# Add Primary Key"
   ]
  },
  {
   "cell_type": "code",
   "execution_count": 17,
   "id": "94bf8bf3",
   "metadata": {},
   "outputs": [],
   "source": [
    "new_cursor.execute(\"Create Table Clients(id int Auto_Increment Primary Key,name varchar(255), code varchar(255))\")"
   ]
  },
  {
   "cell_type": "markdown",
   "id": "6839ea68",
   "metadata": {},
   "source": [
    "# Alter when Table already Exist"
   ]
  },
  {
   "cell_type": "code",
   "execution_count": 18,
   "id": "2b5aaff8",
   "metadata": {},
   "outputs": [],
   "source": [
    "new_cursor.execute(\"Alter Table students Add Column id int Auto_INCREMENT Primary Key\")"
   ]
  },
  {
   "cell_type": "markdown",
   "id": "05380e53",
   "metadata": {},
   "source": [
    "# Insert Data Into Table"
   ]
  },
  {
   "cell_type": "code",
   "execution_count": 21,
   "id": "3891420e",
   "metadata": {},
   "outputs": [],
   "source": [
    "new_sql = \"Insert into students(name,code) values(%s,%s)\"\n",
    "new_vals = (\"Rohit\", \"Code69\")\n",
    "\n",
    "new_cursor.execute(new_sql,new_vals)\n",
    "\n",
    "\n"
   ]
  },
  {
   "cell_type": "code",
   "execution_count": 22,
   "id": "d5d65cb2",
   "metadata": {},
   "outputs": [],
   "source": [
    "#to commit the changes\n",
    "new_db.commit()"
   ]
  },
  {
   "cell_type": "code",
   "execution_count": 23,
   "id": "f3f49a8b",
   "metadata": {},
   "outputs": [
    {
     "name": "stdout",
     "output_type": "stream",
     "text": [
      "1\n"
     ]
    }
   ],
   "source": [
    "print(new_cursor.rowcount)"
   ]
  },
  {
   "cell_type": "markdown",
   "id": "836ffb66",
   "metadata": {},
   "source": [
    "# Insert Many Records\n"
   ]
  },
  {
   "cell_type": "code",
   "execution_count": 25,
   "id": "dc5be2fc",
   "metadata": {},
   "outputs": [],
   "source": [
    "#should use executemany\n",
    "new_sql = \"Insert into students(name,code) values(%s,%s)\"\n",
    "new_vals = [\n",
    "    (\"virat\",\"King18\"),\n",
    "    (\"pujii\",\"BakBddk\"),\n",
    "    (\"Gill\",\"SarahHunter\"),\n",
    "    (\"Bumrah\",\"InjuryKIng\")\n",
    "]\n",
    "\n",
    "new_cursor.executemany(new_sql,new_vals)"
   ]
  },
  {
   "cell_type": "code",
   "execution_count": 27,
   "id": "9477e960",
   "metadata": {},
   "outputs": [],
   "source": [
    "new_db.commit()"
   ]
  },
  {
   "cell_type": "code",
   "execution_count": 30,
   "id": "458fbe38",
   "metadata": {},
   "outputs": [
    {
     "name": "stdout",
     "output_type": "stream",
     "text": [
      "4\n"
     ]
    }
   ],
   "source": [
    "print(new_cursor.rowcount)"
   ]
  },
  {
   "cell_type": "markdown",
   "id": "56d0558d",
   "metadata": {},
   "source": [
    "# Select Table's Data"
   ]
  },
  {
   "cell_type": "code",
   "execution_count": 32,
   "id": "b87e16d7",
   "metadata": {},
   "outputs": [
    {
     "name": "stdout",
     "output_type": "stream",
     "text": [
      "('Rohit', 'Code69', 1)\n",
      "('virat', 'King18', 2)\n",
      "('pujii', 'BakBddk', 3)\n",
      "('Gill', 'SarahHunter', 4)\n",
      "('Bumrah', 'InjuryKIng', 5)\n"
     ]
    }
   ],
   "source": [
    "new_cursor.execute(\"Select * from students\")\n",
    "\n",
    "new_data = new_cursor.fetchall()\n",
    "\n",
    "for x in new_data:\n",
    "    print(x)"
   ]
  },
  {
   "cell_type": "code",
   "execution_count": 34,
   "id": "c15fff12",
   "metadata": {},
   "outputs": [
    {
     "name": "stdout",
     "output_type": "stream",
     "text": [
      "('Rohit', 'Code69')\n",
      "('virat', 'King18')\n",
      "('pujii', 'BakBddk')\n",
      "('Gill', 'SarahHunter')\n",
      "('Bumrah', 'InjuryKIng')\n"
     ]
    }
   ],
   "source": [
    "new_cursor.execute(\"Select name,code from students\")\n",
    "new_data = new_cursor.fetchall()\n",
    "\n",
    "for x in new_data:\n",
    "    print(x)"
   ]
  },
  {
   "cell_type": "code",
   "execution_count": 35,
   "id": "a1e260c0",
   "metadata": {},
   "outputs": [
    {
     "name": "stdout",
     "output_type": "stream",
     "text": [
      "Rohit\n",
      "Code69\n"
     ]
    }
   ],
   "source": [
    "#FETCH ONE\n",
    "new_cursor.execute(\"Select name,code from students\")\n",
    "new_data = new_cursor.fetchone()\n",
    "\n",
    "for x in new_data:\n",
    "    print(x)"
   ]
  },
  {
   "cell_type": "markdown",
   "id": "a487cf5b",
   "metadata": {},
   "source": [
    "# Filter The Results(where)"
   ]
  },
  {
   "cell_type": "code",
   "execution_count": 47,
   "id": "2d9b09aa",
   "metadata": {},
   "outputs": [
    {
     "name": "stdout",
     "output_type": "stream",
     "text": [
      "Rohit\n",
      "Code69\n"
     ]
    }
   ],
   "source": [
    "#FETCH ONE\n",
    "new_cursor.execute(\"Select name,code from students\")\n",
    "new_data = new_cursor.fetchone()\n",
    "\n",
    "for x in new_data:\n",
    "    print(x)"
   ]
  },
  {
   "cell_type": "code",
   "execution_count": 48,
   "id": "afc07ea9",
   "metadata": {},
   "outputs": [
    {
     "name": "stdout",
     "output_type": "stream",
     "text": [
      "('Rohit', 'Code69', 1)\n"
     ]
    }
   ],
   "source": [
    "import mysql.connector\n",
    "new_db = mysql.connector.connect(\n",
    "    host='localhost',\n",
    "    user = 'root',\n",
    "    password ='',\n",
    "    database = 'newdata'\n",
    ")\n",
    "new_cursor = new_db.cursor()\n",
    "\n",
    "new_sql = \" Select * from students where name ='Rohit' \"\n",
    "\n",
    "new_cursor.execute(new_sql)\n",
    "\n",
    "new_data = new_cursor.fetchall()\n",
    "\n",
    "for x in new_data:\n",
    "    print(x)\n",
    "\n"
   ]
  },
  {
   "cell_type": "code",
   "execution_count": 50,
   "id": "f5b11119",
   "metadata": {},
   "outputs": [
    {
     "name": "stdout",
     "output_type": "stream",
     "text": [
      "('Rohit', 'Code69', 1)\n",
      "('virat', 'King18', 2)\n",
      "('Bumrah', 'InjuryKIng', 5)\n"
     ]
    }
   ],
   "source": [
    "import mysql.connector\n",
    "new_db = mysql.connector.connect(\n",
    "    host='localhost',\n",
    "    user = 'root',\n",
    "    password ='',\n",
    "    database = 'newdata'\n",
    ")\n",
    "new_cursor = new_db.cursor()\n",
    "\n",
    "new_sql = \" Select * from students where name like '%R%' \"\n",
    "\n",
    "new_cursor.execute(new_sql)\n",
    "\n",
    "new_data = new_cursor.fetchall()\n",
    "\n",
    "for x in new_data:\n",
    "    print(x)\n"
   ]
  },
  {
   "cell_type": "code",
   "execution_count": 51,
   "id": "8fedd0d9",
   "metadata": {},
   "outputs": [
    {
     "name": "stdout",
     "output_type": "stream",
     "text": [
      "('Rohit', 'Code69', 1)\n",
      "('virat', 'King18', 2)\n"
     ]
    }
   ],
   "source": [
    "new_cursor = new_db.cursor()\n",
    "\n",
    "new_sql = \" Select * from students where name like '%t%' \"\n",
    "\n",
    "new_cursor.execute(new_sql)\n",
    "\n",
    "new_data = new_cursor.fetchall()\n",
    "\n",
    "for x in new_data:\n",
    "    print(x)"
   ]
  },
  {
   "cell_type": "markdown",
   "id": "7a787bef",
   "metadata": {},
   "source": [
    "# Order By to Sort The result"
   ]
  },
  {
   "cell_type": "code",
   "execution_count": 52,
   "id": "259d0bba",
   "metadata": {},
   "outputs": [
    {
     "name": "stdout",
     "output_type": "stream",
     "text": [
      "('virat', 'King18', 2)\n",
      "('Rohit', 'Code69', 1)\n",
      "('pujii', 'BakBddk', 3)\n",
      "('Gill', 'SarahHunter', 4)\n",
      "('Bumrah', 'InjuryKIng', 5)\n"
     ]
    }
   ],
   "source": [
    "new_cursor = new_db.cursor()\n",
    "\n",
    "new_sql = \" Select * from students order by name desc \"\n",
    "\n",
    "new_cursor.execute(new_sql)\n",
    "\n",
    "new_data = new_cursor.fetchall()\n",
    "\n",
    "for x in new_data:\n",
    "    print(x)"
   ]
  },
  {
   "cell_type": "code",
   "execution_count": 53,
   "id": "88a5c408",
   "metadata": {},
   "outputs": [
    {
     "name": "stdout",
     "output_type": "stream",
     "text": [
      "('Bumrah', 'InjuryKIng', 5)\n",
      "('Gill', 'SarahHunter', 4)\n",
      "('pujii', 'BakBddk', 3)\n",
      "('Rohit', 'Code69', 1)\n",
      "('virat', 'King18', 2)\n"
     ]
    }
   ],
   "source": [
    "new_cursor = new_db.cursor()\n",
    "\n",
    "new_sql = \" Select * from students order by name\"\n",
    "\n",
    "new_cursor.execute(new_sql)\n",
    "\n",
    "new_data = new_cursor.fetchall()\n",
    "\n",
    "for x in new_data:\n",
    "    print(x)"
   ]
  },
  {
   "cell_type": "markdown",
   "id": "5d67800d",
   "metadata": {},
   "source": [
    "# Delete from the table"
   ]
  },
  {
   "cell_type": "code",
   "execution_count": 63,
   "id": "800db505",
   "metadata": {},
   "outputs": [],
   "source": [
    "new_cursor = new_db.cursor()\n",
    "\n",
    "new_sql = \" Delete from students where name='pujii' \"\n",
    "\n",
    "new_cursor.execute(new_sql)\n",
    "\n",
    "new_db.commit()"
   ]
  },
  {
   "cell_type": "code",
   "execution_count": 65,
   "id": "6d521812",
   "metadata": {},
   "outputs": [
    {
     "name": "stdout",
     "output_type": "stream",
     "text": [
      "('Bumrah', 'InjuryKIng', 5)\n",
      "('Gill', 'SarahHunter', 4)\n",
      "('Rohit', 'Code69', 1)\n",
      "('virat', 'King18', 2)\n",
      "4\n"
     ]
    }
   ],
   "source": [
    "new_cursor = new_db.cursor()\n",
    "\n",
    "new_sql = \" Select * from students order by name\"\n",
    "\n",
    "new_cursor.execute(new_sql)\n",
    "\n",
    "new_data = new_cursor.fetchall()\n",
    "\n",
    "for x in new_data:\n",
    "    print(x)\n",
    "\n",
    "print(new_cursor.rowcount)"
   ]
  },
  {
   "cell_type": "code",
   "execution_count": 69,
   "id": "bac0e051",
   "metadata": {},
   "outputs": [
    {
     "name": "stdout",
     "output_type": "stream",
     "text": [
      "0\n"
     ]
    }
   ],
   "source": [
    "new_cursor = new_db.cursor()\n",
    "\n",
    "new_sql = \" Delete from students where name= %s \"\n",
    "name = (\"gill\",)\n",
    "\n",
    "new_cursor.execute(new_sql,name)\n",
    "\n",
    "new_db.commit()"
   ]
  },
  {
   "cell_type": "code",
   "execution_count": 70,
   "id": "4a24450b",
   "metadata": {},
   "outputs": [
    {
     "name": "stdout",
     "output_type": "stream",
     "text": [
      "('Bumrah', 'InjuryKIng', 5)\n",
      "('Rohit', 'Code69', 1)\n",
      "('virat', 'King18', 2)\n",
      "3\n"
     ]
    }
   ],
   "source": [
    "new_cursor = new_db.cursor()\n",
    "\n",
    "new_sql = \" Select * from students order by name\"\n",
    "\n",
    "new_cursor.execute(new_sql)\n",
    "\n",
    "new_data = new_cursor.fetchall()\n",
    "\n",
    "for x in new_data:\n",
    "    print(x)\n",
    "\n",
    "print(new_cursor.rowcount)"
   ]
  },
  {
   "cell_type": "markdown",
   "id": "caef1159",
   "metadata": {},
   "source": [
    "# Removing Tables"
   ]
  },
  {
   "cell_type": "code",
   "execution_count": 78,
   "id": "ccba35dd",
   "metadata": {},
   "outputs": [
    {
     "name": "stdout",
     "output_type": "stream",
     "text": [
      "('clients',)\n",
      "('students',)\n"
     ]
    }
   ],
   "source": [
    "new_cursor = new_db.cursor()\n",
    "\n",
    "new_cursor.execute(\"Show Tables\")\n",
    "\n",
    "for x in new_cursor:\n",
    "    print(x)"
   ]
  },
  {
   "cell_type": "code",
   "execution_count": 84,
   "id": "e88bb314",
   "metadata": {},
   "outputs": [],
   "source": [
    "new_cursor = new_db.cursor()\n",
    "\n",
    "new_sql = \"DROP TABLE clients\"\n",
    "\n",
    "new_cursor.execute(new_sql)\n",
    "\n",
    "new_db.commit()"
   ]
  },
  {
   "cell_type": "code",
   "execution_count": 85,
   "id": "ad3c6359",
   "metadata": {},
   "outputs": [
    {
     "name": "stdout",
     "output_type": "stream",
     "text": [
      "('students',)\n"
     ]
    }
   ],
   "source": [
    "new_cursor = new_db.cursor()\n",
    "\n",
    "new_cursor.execute(\"Show Tables\")\n",
    "\n",
    "for x in new_cursor:\n",
    "    print(x)"
   ]
  },
  {
   "cell_type": "code",
   "execution_count": 86,
   "id": "debcfb01",
   "metadata": {},
   "outputs": [],
   "source": [
    "new_cursor = new_db.cursor()\n",
    "\n",
    "new_sql = \"DROP TABLE if exists clients\"\n",
    "\n",
    "new_cursor.execute(new_sql)\n",
    "\n",
    "new_db.commit()"
   ]
  },
  {
   "cell_type": "markdown",
   "id": "1ce98ff5",
   "metadata": {},
   "source": [
    "# Updating tables "
   ]
  },
  {
   "cell_type": "code",
   "execution_count": 88,
   "id": "3d6d89b5",
   "metadata": {},
   "outputs": [],
   "source": [
    "new_cursor = new_db.cursor()\n",
    "\n",
    "new_sql = \"update students set name='Hitman' where name='Rohit'\"\n",
    "\n",
    "new_cursor.execute(new_sql)\n",
    "\n",
    "new_db.commit()\n"
   ]
  },
  {
   "cell_type": "code",
   "execution_count": 89,
   "id": "8fac9796",
   "metadata": {},
   "outputs": [
    {
     "name": "stdout",
     "output_type": "stream",
     "text": [
      "('Bumrah', 'InjuryKIng', 5)\n",
      "('Hitman', 'Code69', 1)\n",
      "('virat', 'King18', 2)\n",
      "3\n"
     ]
    }
   ],
   "source": [
    "new_cursor = new_db.cursor()\n",
    "\n",
    "new_sql = \" Select * from students order by name\"\n",
    "\n",
    "new_cursor.execute(new_sql)\n",
    "\n",
    "new_data = new_cursor.fetchall()\n",
    "\n",
    "for x in new_data:\n",
    "    print(x)\n",
    "\n",
    "print(new_cursor.rowcount)"
   ]
  },
  {
   "cell_type": "code",
   "execution_count": null,
   "id": "5b4fa915",
   "metadata": {},
   "outputs": [],
   "source": []
  }
 ],
 "metadata": {
  "kernelspec": {
   "display_name": "Python 3 (ipykernel)",
   "language": "python",
   "name": "python3"
  },
  "language_info": {
   "codemirror_mode": {
    "name": "ipython",
    "version": 3
   },
   "file_extension": ".py",
   "mimetype": "text/x-python",
   "name": "python",
   "nbconvert_exporter": "python",
   "pygments_lexer": "ipython3",
   "version": "3.10.6"
  }
 },
 "nbformat": 4,
 "nbformat_minor": 5
}
