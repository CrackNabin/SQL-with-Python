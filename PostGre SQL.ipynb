{
 "cells": [
  {
   "cell_type": "markdown",
   "id": "546eb97d",
   "metadata": {},
   "source": [
    "# Creating Table with PostGre SQl"
   ]
  },
  {
   "cell_type": "code",
   "execution_count": 1,
   "id": "4ab5b3a1",
   "metadata": {},
   "outputs": [
    {
     "name": "stdout",
     "output_type": "stream",
     "text": [
      "Collecting psycopg2\n",
      "  Downloading psycopg2-2.9.5-cp310-cp310-win_amd64.whl (1.2 MB)\n",
      "     ---------------------------------------- 1.2/1.2 MB 1.9 MB/s eta 0:00:00\n",
      "Installing collected packages: psycopg2\n",
      "Successfully installed psycopg2-2.9.5\n"
     ]
    }
   ],
   "source": [
    "!pip install psycopg2"
   ]
  },
  {
   "cell_type": "markdown",
   "id": "bd4d9175",
   "metadata": {},
   "source": [
    "# Import the Library"
   ]
  },
  {
   "cell_type": "code",
   "execution_count": 2,
   "id": "0908e0e2",
   "metadata": {},
   "outputs": [],
   "source": [
    "import psycopg2"
   ]
  },
  {
   "cell_type": "markdown",
   "id": "1d2a05a0",
   "metadata": {},
   "source": [
    "# Create a connection to the database\n"
   ]
  },
  {
   "cell_type": "code",
   "execution_count": 4,
   "id": "0cb88d4f",
   "metadata": {},
   "outputs": [],
   "source": [
    "try: \n",
    "    conn = psycopg2.connect(\"host=127.0.0.1 dbname=postgres user=postgres password=nabin@203\")\n",
    "except psycopg2.Error as e: \n",
    "    print(\"Error: Could not make connection to the Postgres database\")\n",
    "    print(e)"
   ]
  },
  {
   "cell_type": "markdown",
   "id": "c6cfba2f",
   "metadata": {},
   "source": [
    "# Use the connection to get a cursor that can be used to execute queries.\n"
   ]
  },
  {
   "cell_type": "code",
   "execution_count": 5,
   "id": "6d236e80",
   "metadata": {},
   "outputs": [],
   "source": [
    "try: \n",
    "    cur = conn.cursor()\n",
    "except psycopg2.Error as e: \n",
    "    print(\"Error: Could not get curser to the Database\")\n",
    "    print(e)"
   ]
  },
  {
   "cell_type": "markdown",
   "id": "f4b9d59b",
   "metadata": {},
   "source": [
    "# Set automatic commit to be true so that each action is committed without having to call conn.commit() after each command."
   ]
  },
  {
   "cell_type": "code",
   "execution_count": 6,
   "id": "8ebdf403",
   "metadata": {},
   "outputs": [],
   "source": [
    "conn.set_session(autocommit=True)"
   ]
  },
  {
   "cell_type": "markdown",
   "id": "99823294",
   "metadata": {},
   "source": [
    "# Create a database to do the work"
   ]
  },
  {
   "cell_type": "code",
   "execution_count": 7,
   "id": "6a0103f0",
   "metadata": {},
   "outputs": [],
   "source": [
    "try: \n",
    "    cur.execute(\"create database myfirstdb\")\n",
    "except psycopg2.Error as e:\n",
    "    print(e)"
   ]
  },
  {
   "cell_type": "markdown",
   "id": "1754a89c",
   "metadata": {},
   "source": [
    "# Add the database name in the connect statement. Let's close our connection to the default database, reconnect to the myFirstDB database, and get a new cursor.\n"
   ]
  },
  {
   "cell_type": "code",
   "execution_count": null,
   "id": "b5a921a9",
   "metadata": {},
   "outputs": [],
   "source": [
    "try: \n",
    "    conn.close()\n",
    "except psycopg2.Error as e:\n",
    "    print(e)\n",
    "    \n",
    "try: \n",
    "    conn = psycopg2.connect(\"host=127.0.0.1 dbname=myfirstdb user=postgres password=nabin@203\")\n",
    "except psycopg2.Error as e: \n",
    "    print(\"Error: Could not make connection to the Postgres database\")\n",
    "    print(e)\n",
    "    \n",
    "try: \n",
    "    cur = conn.cursor()\n",
    "except psycopg2.Error as e: \n",
    "    print(\"Error: Could not get curser to the Database\")\n",
    "    print(e)\n",
    "\n",
    "conn.set_session(autocommit=True)"
   ]
  },
  {
   "cell_type": "markdown",
   "id": "e52f372a",
   "metadata": {},
   "source": [
    "# Create Table for students which includes below columns\n",
    "student_id\n",
    "name\n",
    "age\n",
    "gender\n",
    "subject\n",
    "marks"
   ]
  },
  {
   "cell_type": "code",
   "execution_count": 9,
   "id": "894352a1",
   "metadata": {},
   "outputs": [],
   "source": [
    "try: \n",
    "    cur.execute(\"CREATE TABLE IF NOT EXISTS students (student_id int, name varchar,\\\n",
    "    age int, gender varchar, subject varchar, marks int);\")\n",
    "except psycopg2.Error as e: \n",
    "    print(\"Error: Issue creating table\")\n",
    "    print (e)"
   ]
  },
  {
   "cell_type": "markdown",
   "id": "3304aed1",
   "metadata": {},
   "source": [
    "# Insert the following two rows in the table\n",
    "First Row: 1, \"Raj\", 23, \"Male\", \"Python\", 85\n",
    "\n",
    "Second Row: 2, \"Priya\", 22, \"Female\", \"Python\", 86"
   ]
  },
  {
   "cell_type": "code",
   "execution_count": 10,
   "id": "09ae7563",
   "metadata": {},
   "outputs": [],
   "source": [
    "try: \n",
    "    cur.execute(\"INSERT INTO students (student_id, name, age, gender, subject, marks) \\\n",
    "                 VALUES (%s, %s, %s, %s, %s, %s)\", \\\n",
    "                 (1, \"Raj\", 23, \"Male\", \"Python\", 85))\n",
    "except psycopg2.Error as e: \n",
    "    print(\"Error: Inserting Rows\")\n",
    "    print (e)\n",
    "    \n",
    "try: \n",
    "    cur.execute(\"INSERT INTO students (student_id, name, age, gender, subject, marks) \\\n",
    "                  VALUES (%s, %s, %s, %s, %s, %s)\",\n",
    "                  ( 2, \"Priya\", 22, \"Female\", \"Python\", 86))\n",
    "except psycopg2.Error as e: \n",
    "    print(\"Error: Inserting Rows\")\n",
    "    print (e)"
   ]
  },
  {
   "cell_type": "markdown",
   "id": "6b9ea8c3",
   "metadata": {},
   "source": [
    "# Validate your data was inserted into the table."
   ]
  },
  {
   "cell_type": "code",
   "execution_count": 11,
   "id": "1a35e34b",
   "metadata": {},
   "outputs": [
    {
     "name": "stdout",
     "output_type": "stream",
     "text": [
      "(1, 'Raj', 23, 'Male', 'Python', 85)\n",
      "(2, 'Priya', 22, 'Female', 'Python', 86)\n"
     ]
    }
   ],
   "source": [
    "try: \n",
    "    cur.execute(\"SELECT * FROM students;\")\n",
    "except psycopg2.Error as e: \n",
    "    print(\"Error: select *\")\n",
    "    print (e)\n",
    "\n",
    "row = cur.fetchone()\n",
    "while row:\n",
    "    print(row)\n",
    "    row = cur.fetchone()"
   ]
  },
  {
   "cell_type": "markdown",
   "id": "14f4557a",
   "metadata": {},
   "source": [
    "# And finally close your cursor and connection."
   ]
  },
  {
   "cell_type": "code",
   "execution_count": 12,
   "id": "1a9e5087",
   "metadata": {},
   "outputs": [],
   "source": [
    "cur.close()\n",
    "conn.close()"
   ]
  }
 ],
 "metadata": {
  "kernelspec": {
   "display_name": "Python 3 (ipykernel)",
   "language": "python",
   "name": "python3"
  },
  "language_info": {
   "codemirror_mode": {
    "name": "ipython",
    "version": 3
   },
   "file_extension": ".py",
   "mimetype": "text/x-python",
   "name": "python",
   "nbconvert_exporter": "python",
   "pygments_lexer": "ipython3",
   "version": "3.10.6"
  }
 },
 "nbformat": 4,
 "nbformat_minor": 5
}
